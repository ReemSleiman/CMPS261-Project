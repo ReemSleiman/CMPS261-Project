{
 "cells": [
  {
   "cell_type": "markdown",
   "metadata": {},
   "source": [
    "Introduction:\n",
    "1. Data Preprrocessing techniques:\n",
    "    a. image resize\n",
    "    b. Normalization \n",
    "    c. Data Augmentation (Example: Horizontal Flipping, rotation, scaling )\n",
    "    d. Histogram Equalization\n",
    "    e. Data Cleaning (Example: Removing images with low contrast)\n",
    "    f. Noise Reduction (bluring and denoising)\n",
    "    g. Splitting the Dataset (Example: 80-10-10 split)\n"
   ]
  },
  {
   "cell_type": "markdown",
   "metadata": {},
   "source": [
    "Lets split the data first into training, validation and testing using the 75%, 15%, 15% respectively."
   ]
  },
  {
   "cell_type": "code",
   "execution_count": 3,
   "metadata": {},
   "outputs": [],
   "source": [
    "import os\n",
    "import shutil\n",
    "import random\n",
    "\n",
    "# Get the directory of the current script\n",
    "script_dir = os.path.dirname(os.path.abspath(__file__))\n",
    "\n",
    "# Define paths relative to the script location\n",
    "data_dirOuter = os.path.join(script_dir, 'data')\n",
    "data_dir = os.path.join(data_dirOuter, 'data')  # Adjust this path to point to the nested data folder\n",
    "train_dir = os.path.join(data_dirOuter, 'train')  # Train directory inside the first data folder\n",
    "val_dir = os.path.join(data_dirOuter, 'val')      # Validation directory inside the first data folder\n",
    "test_dir = os.path.join(data_dirOuter, 'test')\n",
    "\n",
    "# Define the split ratios\n",
    "train_ratio = 0.7\n",
    "val_ratio = 0.15\n",
    "test_ratio = 0.15\n",
    "\n",
    "# Create directories for train, val, and test sets\n",
    "os.makedirs(train_dir, exist_ok=True)\n",
    "os.makedirs(val_dir, exist_ok=True)\n",
    "os.makedirs(test_dir, exist_ok=True)\n",
    "\n",
    "# Loop through each class folder\n",
    "for class_name in os.listdir(data_dir):\n",
    "    class_path = os.path.join(data_dir, class_name)\n",
    "    if os.path.isdir(class_path):\n",
    "        images = os.listdir(class_path)\n",
    "        random.shuffle(images)\n",
    "        \n",
    "        # Calculate split indices\n",
    "        train_split = int(train_ratio * len(images))\n",
    "        val_split = int((train_ratio + val_ratio) * len(images))\n",
    "        \n",
    "        # Move images to respective directories\n",
    "        for i, image in enumerate(images):\n",
    "            src_path = os.path.join(class_path, image)\n",
    "            if i < train_split:\n",
    "                dst_dir = os.path.join(train_dir, class_name)\n",
    "            elif i < val_split:\n",
    "                dst_dir = os.path.join(val_dir, class_name)\n",
    "            else:\n",
    "                dst_dir = os.path.join(test_dir, class_name)\n",
    "            \n",
    "            os.makedirs(dst_dir, exist_ok=True)\n",
    "            shutil.copy(src_path, dst_dir)\n",
    "\n"
   ]
  }
 ],
 "metadata": {
  "kernelspec": {
   "display_name": "Python 3",
   "language": "python",
   "name": "python3"
  },
  "language_info": {
   "codemirror_mode": {
    "name": "ipython",
    "version": 3
   },
   "file_extension": ".py",
   "mimetype": "text/x-python",
   "name": "python",
   "nbconvert_exporter": "python",
   "pygments_lexer": "ipython3",
   "version": "3.12.2"
  }
 },
 "nbformat": 4,
 "nbformat_minor": 2
}
