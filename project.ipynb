{
 "cells": [
  {
   "cell_type": "markdown",
   "metadata": {},
   "source": [
    "Introduction:\n",
    "1. Data Preprrocessing techniques:\n",
    "    a. image resize\n",
    "    b. Normalization \n",
    "    c. Data Augmentation (Example: Horizontal Flipping, rotation, scaling )\n",
    "    d. Histogram Equalization\n",
    "    e. Data Cleaning (Example: Removing images with low contrast)\n",
    "    f. Noise Reduction (bluring and denoising)\n",
    "    g. Splitting the Dataset (Example: 80-10-10 split)\n"
   ]
  },
  {
   "cell_type": "code",
   "execution_count": null,
   "metadata": {},
   "outputs": [],
   "source": []
  }
 ],
 "metadata": {
  "language_info": {
   "name": "python"
  }
 },
 "nbformat": 4,
 "nbformat_minor": 2
}
